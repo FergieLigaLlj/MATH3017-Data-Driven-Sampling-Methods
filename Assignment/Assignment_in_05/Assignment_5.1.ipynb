{
 "cells": [
  {
   "cell_type": "code",
   "execution_count": 1,
   "metadata": {},
   "outputs": [
    {
     "name": "stdout",
     "output_type": "stream",
     "text": [
      "The MLE theta_hat_n for n=1000 is: 0.9965577246238425\n"
     ]
    }
   ],
   "source": [
    "import numpy as np\n",
    "\n",
    "# Set the sample size\n",
    "n = 1000\n",
    "\n",
    "# Generate n random numbers from an exponential distribution with theta = 1\n",
    "# In NumPy, the scale parameter is 1/theta, so for theta = 1, scale = 1\n",
    "random_numbers = np.random.exponential(scale=1, size=n)\n",
    "\n",
    "# Calculate the sample mean\n",
    "sample_mean = np.mean(random_numbers)\n",
    "\n",
    "# Calculate the MLE theta_hat_n\n",
    "theta_hat_n = 1 / sample_mean\n",
    "\n",
    "# Print the result\n",
    "print(f\"The MLE theta_hat_n for n={n} is: {theta_hat_n}\")"
   ]
  }
 ],
 "metadata": {
  "kernelspec": {
   "display_name": "Python 3",
   "language": "python",
   "name": "python3"
  },
  "language_info": {
   "codemirror_mode": {
    "name": "ipython",
    "version": 3
   },
   "file_extension": ".py",
   "mimetype": "text/x-python",
   "name": "python",
   "nbconvert_exporter": "python",
   "pygments_lexer": "ipython3",
   "version": "3.13.1"
  }
 },
 "nbformat": 4,
 "nbformat_minor": 2
}

{
 "cells": [
  {
   "cell_type": "code",
   "execution_count": 1,
   "metadata": {},
   "outputs": [
    {
     "name": "stdout",
     "output_type": "stream",
     "text": [
      "Assignment 2: The MLE theta_hat_n for n=1000 is: -0.058572743731044236\n"
     ]
    }
   ],
   "source": [
    "import numpy as np\n",
    "\n",
    "# Set the sample size\n",
    "n = 1000\n",
    "\n",
    "# Generate n random numbers from a normal distribution with mean theta = 0 and variance 1\n",
    "random_numbers = np.random.normal(loc=0, scale=1, size=n)\n",
    "\n",
    "# Calculate the sample mean, which is the MLE for theta in a normal distribution\n",
    "theta_hat_n = np.mean(random_numbers)\n",
    "\n",
    "# Print the result\n",
    "print(f\"Assignment 2: The MLE theta_hat_n for n={n} is: {theta_hat_n}\")"
   ]
  }
 ],
 "metadata": {
  "kernelspec": {
   "display_name": "Python 3",
   "language": "python",
   "name": "python3"
  },
  "language_info": {
   "codemirror_mode": {
    "name": "ipython",
    "version": 3
   },
   "file_extension": ".py",
   "mimetype": "text/x-python",
   "name": "python",
   "nbconvert_exporter": "python",
   "pygments_lexer": "ipython3",
   "version": "3.13.1"
  }
 },
 "nbformat": 4,
 "nbformat_minor": 2
}
